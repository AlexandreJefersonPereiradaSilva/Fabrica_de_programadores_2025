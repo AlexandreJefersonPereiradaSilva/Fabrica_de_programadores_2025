{
 "cells": [
  {
   "cell_type": "markdown",
   "metadata": {},
   "source": [
    "# Revisão de Programação em Python\n",
    "## Alunos da Rede Pública Municipal de Santana de Parnaíba inscritos na Fábrica de Programadores!\n",
    "\n",
    "Neste notebook, vamos revisar os conceitos aprendidos:\n",
    "- Variáveis e tipos básicos\n",
    "- Listas\n",
    "- Estruturas condicionais (if, else)\n",
    "- Loops (while, for)\n",
    "- Lógica básica de programação"
   ]
  },
  {
   "cell_type": "markdown",
   "metadata": {},
   "source": [
    "## Exercício 1: Variáveis e Tipos Básicos"
   ]
  },
  {
   "cell_type": "code",
   "execution_count": 1,
   "metadata": {},
   "outputs": [
    {
     "name": "stdout",
     "output_type": "stream",
     "text": [
      "O meu nome é: alexandre.\n",
      "17.\n",
      "1.730000.\n",
      "true\n"
     ]
    }
   ],
   "source": [
    "# 1. -Crie variaveis para armazenar\n",
    "#    - Seu nome (string)\n",
    "#    - Sua idade (int)\n",
    "#    - Sua altura em metros (float)\n",
    "#    - Se você gosta de programar (boolean)\n",
    "# Depois, imprima cada uma dessas variáveis\n",
    "\n",
    "# Seu código aqui\n",
    "caixa_de_ideias=()\n",
    "nome=\"alexandre\"\n",
    "idade=17\n",
    "altura=1.73\n",
    "gosto_de_programar=True\n",
    "print(\"O meu nome é: %s.\" %(nome))\n",
    "print(\"%d.\" %(idade))\n",
    "print(\"%f.\" %(altura))\n",
    "print(\"true\")"
   ]
  },
  {
   "cell_type": "markdown",
   "metadata": {},
   "source": [
    "## Exercício 2: Operações com Listas"
   ]
  },
  {
   "cell_type": "code",
   "execution_count": 2,
   "metadata": {},
   "outputs": [
    {
     "name": "stdout",
     "output_type": "stream",
     "text": [
      "['laranjas', 'uvas', 'jaca', 'melão', ['banana']]\n",
      "melão\n"
     ]
    }
   ],
   "source": [
    "# 2. Crie uma lista chamada 'frutas' com 5 frutas diferentes\n",
    "#    - Adicione uma nova fruta no final da lista\n",
    "#    - Remova a segunda fruta da lista\n",
    "#    - Imprima a lista resultante\n",
    "#    - Imprima apenas a terceira fruta da lista\n",
    "\n",
    "# Seu código aqui\n",
    "frutas=[\"laranjas\", \"uvas\", \"kiwis\", \"jaca\", \"melão\"]\n",
    "frutas.append([\"banana\"])\n",
    "del frutas[2]\n",
    "print(frutas)\n",
    "print(frutas[3])"
   ]
  },
  {
   "cell_type": "markdown",
   "metadata": {},
   "source": [
    "## Exercício 3: Estruturas Condicionais (if, else)"
   ]
  },
  {
   "cell_type": "code",
   "execution_count": 20,
   "metadata": {},
   "outputs": [
    {
     "name": "stdout",
     "output_type": "stream",
     "text": [
      "O numero é positivo.\n"
     ]
    }
   ],
   "source": [
    "# 3. Crie um programa que verifica se um número é positivo, negativo ou zero\n",
    "#    - Peça para o usuário digitar um número\n",
    "#    - Use if, elif e else para verificar o número\n",
    "#    - Imprima o resultado\n",
    "\n",
    "# Seu código aqui\n",
    "numero=float(input(\"digite um numero:\"))\n",
    "def verificar_numero(numero):\n",
    "    if numero > 0:\n",
    "        return \"O numero é positivo.\"\n",
    "    elif numero < 0:\n",
    "        return \"O numero é negativo.\"\n",
    "    else:\n",
    "        return \"O numero é zero\"\n",
    "        \n",
    "resultado=verificar_numero(numero)\n",
    "print(resultado)\n",
    "\n",
    "\n",
    "\n",
    "\n",
    "\n",
    "\n",
    "\n",
    "      \n",
    "\n",
    "        \n"
   ]
  },
  {
   "cell_type": "markdown",
   "metadata": {},
   "source": [
    "## Exercício 4: Loop While"
   ]
  },
  {
   "cell_type": "code",
   "execution_count": 21,
   "metadata": {},
   "outputs": [
    {
     "name": "stdout",
     "output_type": "stream",
     "text": [
      "5\n",
      "4\n",
      "3\n",
      "2\n",
      "1\n",
      "fogo\n"
     ]
    }
   ],
   "source": [
    "# 4. Crie um contador regressivo de 5 até 1 usando while\n",
    "#    - A cada iteração, imprima o número atual\n",
    "#    - Quando chegar a 1, imprima \"Fogo!\"\n",
    "\n",
    "# Seu código aqui\n",
    "contagem_regressiva=5\n",
    "while contagem_regressiva>=1:\n",
    "    print(contagem_regressiva)\n",
    "    contagem_regressiva=contagem_regressiva-1\n",
    "\n",
    "print(\"fogo\")"
   ]
  },
  {
   "cell_type": "markdown",
   "metadata": {},
   "source": [
    "## Exercício 5: Loop For"
   ]
  },
  {
   "cell_type": "code",
   "execution_count": 22,
   "metadata": {},
   "outputs": [
    {
     "name": "stdout",
     "output_type": "stream",
     "text": [
      "digite as 5 notas\n",
      "a media é: 5.0\n"
     ]
    }
   ],
   "source": [
    "# 5. Crie um programa que calcula a média de 5 notas usando for\n",
    "#    - Peça para o usuário digitar 5 notas\n",
    "#    - Use um loop for para somar as notas\n",
    "#    - Calcule e imprima a média\n",
    "\n",
    "# Seu código aqui\n",
    "print(\"digite as 5 notas\")\n",
    "\n",
    "soma = 0\n",
    "\n",
    "for i in range(5):\n",
    "    nota = float(input(\"digite as notas\"))\n",
    "    soma += nota\n",
    "    calculo=soma/5\n",
    "\n",
    "print(\"a media é:\", calculo)"
   ]
  },
  {
   "cell_type": "markdown",
   "metadata": {},
   "source": [
    "## Exercício 6: Listas e Loops"
   ]
  },
  {
   "cell_type": "code",
   "execution_count": 23,
   "metadata": {},
   "outputs": [
    {
     "name": "stdout",
     "output_type": "stream",
     "text": [
      "\n",
      " numeros pares:\n",
      "2\n",
      "4\n",
      "6\n",
      "8\n",
      "10\n",
      "\n",
      " numeros impares\n",
      "1\n",
      "3\n",
      "5\n",
      "7\n",
      "9\n"
     ]
    }
   ],
   "source": [
    "# 6. Crie uma lista de números de 1 a 10\n",
    "\n",
    "#    - Use um loop for para imprimir apenas os números pares\n",
    "#    - Depois, crie uma nova lista com os números ímpares\n",
    "#    - Imprima a lista de ímpares\n",
    "\n",
    "# Seu código aqui\n",
    "lista=[1, 2, 3, 4, 5, 6, 7, 8, 9, 10]\n",
    "print(\"\\n numeros pares:\")\n",
    "for par in lista:\n",
    "    if par %2==0:\n",
    "    \n",
    "      print(par)\n",
    "print(\"\\n numeros impares\")\n",
    "for impar in lista:\n",
    "   if impar %2==1:\n",
    "      \n",
    "      print(impar)\n",
    "      \n",
    "\n",
    "       \n"
   ]
  },
  {
   "cell_type": "markdown",
   "metadata": {},
   "source": [
    "## Exercício 7: Jogo de Adivinhação"
   ]
  },
  {
   "cell_type": "code",
   "execution_count": 24,
   "metadata": {},
   "outputs": [
    {
     "name": "stdout",
     "output_type": "stream",
     "text": [
      "tente dinovo! voçê tem 2\n",
      "numero aleatorio 7\n",
      "palpite 6\n",
      "você acertou!\n",
      "numero aleatorio 7\n",
      "palpite 7\n",
      "acabaram suas tentativas!\n"
     ]
    }
   ],
   "source": [
    "# 7. Crie um jogo de adivinhação onde:\n",
    "#    - O computador escolhe um número aleatório entre 1 e 10\n",
    "#    - O jogador tem 3 tentativas para adivinhar o número\n",
    "#    - A cada tentativa, diga se o palpite é maior ou menor que o número secreto\n",
    "#    - Se acertar, imprima \"Parabéns!\" e encerre o jogo\n",
    "#    - Se errar todas as tentativas, imprima o número correto\n",
    "\n",
    "# Seu código aqui\n",
    "import random\n",
    "\n",
    "numero_aleatorio = random.randint(1,10)\n",
    "tentativas=3\n",
    "\n",
    "while tentativas>0:\n",
    "    palpite=int(input(\"insira um numero de 1 a 10\"))\n",
    "\n",
    "    if palpite==numero_aleatorio:\n",
    "        print(\"você acertou!\")\n",
    "        print(\"numero aleatorio\", numero_aleatorio)\n",
    "        print(\"palpite\",palpite)\n",
    "        break\n",
    "    else:\n",
    "        tentativas-=1\n",
    "        print(\"tente dinovo! voçê tem\", tentativas)\n",
    "        print(\"numero aleatorio\", numero_aleatorio)\n",
    "        print(\"palpite\", palpite)\n",
    "\n",
    "print(\"acabaram suas tentativas!\")\n",
    "\n"
   ]
  },
  {
   "cell_type": "markdown",
   "metadata": {},
   "source": []
  },
  {
   "cell_type": "markdown",
   "metadata": {},
   "source": [
    "## Exercício 8: Desafio Final"
   ]
  },
  {
   "cell_type": "code",
   "execution_count": 25,
   "metadata": {},
   "outputs": [
    {
     "name": "stdout",
     "output_type": "stream",
     "text": [
      "magreza grau III\n"
     ]
    }
   ],
   "source": [
    "# 8. Crie um programa que:\n",
    "#    - Pede para o usuário digitar o seu próprio peso em Kgs.\n",
    "\n",
    "#    - Depois, pede ao usuário que digite sua altura em metros.\n",
    "#    - Em terceiro, pede ao usuário que digite seu nome e idade.\n",
    "#    - Adiciona os dados digitados ao final de uma lista.\n",
    "#    - Calcule o índice de massa corpórea (IMC) do indivíduo de acordo com a fórmula do IMC pesquisada.    \n",
    "#    - Após calcular, registre: Classificação do IMC de acordo com a OMS:\n",
    "#    - < 16         Magreza grau III\n",
    "#    - 16 a 16,9    Magreza grau II\n",
    "#    - 17 a 18,4    Magreza grau III\n",
    "#    - 18,5 a 24,9  Eutrofia\n",
    "#    - 25 a 29,9    Pré-obesidade\n",
    "#    - 30 a 34,9    Obesidade moderada (grau I)\n",
    "#    - 35 a 39,9    Obesidade severa (grau II)\n",
    "#    - >= 40        Obesidade muito severa (grau III)\n",
    "#    - Finalmente, em ordem alfabética, exiba todos os itens da lista ao lado de seus dados, seu IMC e sua respectiva classificação.\n",
    "\n",
    "# Seu código aqui\n",
    "nome=input(\"digite seu nome\")\n",
    "idade=int(input(\"digite sua idade\"))\n",
    "pesoKG=int(input(\"digite seu pesoKG\"))\n",
    "alturaM=float(input(\"digite sua altura\"))\n",
    "usuario=nome, idade, pesoKG, alturaM\n",
    "imc=(pesoKG)/alturaM**2\n",
    "\n",
    "if imc <=16:\n",
    "    print(\"magreza grau III\")\n",
    "elif imc <=16.9:\n",
    "    print(\"magreza grau II\")\n",
    "elif imc <=18.4:\n",
    "    print(\"magreza grau I\")\n",
    "elif imc <=24.9:\n",
    "    print(\"utrofia\")\n",
    "elif imc <=29.9:\n",
    "    print(\"pré-obesidade\")\n",
    "elif imc <=34.9:\n",
    "    print(\"obesidade moderada (grau I)\")\n",
    "elif imc <=39.9:\n",
    "    print(\"obsesidade severa (grau II)\")\n",
    "elif imc >=40:\n",
    "    print(\"obsidade muito severa(grau III)\")\n",
    "\n"
   ]
  },
  {
   "cell_type": "markdown",
   "metadata": {},
   "source": [
    "## Parabéns por completar os exercícios! 🥳\n",
    "### Continue praticando e explorando os conceitos de programação."
   ]
  }
 ],
 "metadata": {
  "kernelspec": {
   "display_name": "Python 3",
   "language": "python",
   "name": "python3"
  },
  "language_info": {
   "codemirror_mode": {
    "name": "ipython",
    "version": 3
   },
   "file_extension": ".py",
   "mimetype": "text/x-python",
   "name": "python",
   "nbconvert_exporter": "python",
   "pygments_lexer": "ipython3",
   "version": "3.13.2"
  }
 },
 "nbformat": 4,
 "nbformat_minor": 4
}
